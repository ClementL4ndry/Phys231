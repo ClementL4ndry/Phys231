{
 "cells": [
  {
   "cell_type": "code",
   "execution_count": 2,
   "id": "e5a910df-6ef8-4c5d-a684-e9e919a26cf3",
   "metadata": {
    "execution": {
     "iopub.execute_input": "2024-10-27T20:41:50.667211Z",
     "iopub.status.busy": "2024-10-27T20:41:50.665576Z",
     "iopub.status.idle": "2024-10-27T20:41:51.688722Z",
     "shell.execute_reply": "2024-10-27T20:41:51.686855Z",
     "shell.execute_reply.started": "2024-10-27T20:41:50.667116Z"
    }
   },
   "outputs": [],
   "source": [
    "import numpy as np\n",
    "from matplotlib import pyplot as plt"
   ]
  },
  {
   "cell_type": "markdown",
   "id": "bd360c7c-6914-4213-b849-252b12cbcd5b",
   "metadata": {},
   "source": [
    "### The superconductivity dataset\n",
    "\n",
    "The superconductivity dataset (Hamidieh, Computational Materials Science, 2018) contains $d=81$ chemical and molecular features extracted from 21263 superconductors along with the critical temperature (the label) in the last column. The goal is to predict the critical temperature from the features. If you are interested in the physical meaning of those, you can check out the original paper at https://arxiv.org/pdf/1803.10260.pdf\n",
    "\n",
    "In the first part we will predict the critical temperature using least-square linear regression; in the second part we will train a neural network by gradient descent to predict the temperature."
   ]
  },
  {
   "cell_type": "markdown",
   "id": "b9e5cb08-07cb-416f-898b-edbeb5cf7769",
   "metadata": {},
   "source": [
    "## 0 Loading and pre-processing"
   ]
  },
  {
   "cell_type": "markdown",
   "id": "055d87ca-eb5c-44c5-9d42-0849a1bca4d7",
   "metadata": {},
   "source": [
    "Download the dataset from `https://archive.ics.uci.edu/dataset/464/superconductivty+data` (24MB). The dataset we use is `train.csv` ; move it to the folder containing the notebook. In the following cell we load it. `data` contains the numerical values while `fields` of size $d+1$ is the name of the features."
   ]
  },
  {
   "cell_type": "code",
   "execution_count": 3,
   "id": "5d637450-db59-45a8-baa8-afd5131bd636",
   "metadata": {
    "execution": {
     "iopub.execute_input": "2024-10-27T20:41:51.690853Z",
     "iopub.status.busy": "2024-10-27T20:41:51.690455Z",
     "iopub.status.idle": "2024-10-27T20:41:52.784810Z",
     "shell.execute_reply": "2024-10-27T20:41:52.783130Z",
     "shell.execute_reply.started": "2024-10-27T20:41:51.690825Z"
    }
   },
   "outputs": [],
   "source": [
    "fields = np.loadtxt(\"train.csv\", delimiter=\",\", max_rows=1, dtype=str)\n",
    "data = np.loadtxt(\"train.csv\", delimiter=\",\", skiprows=1)"
   ]
  },
  {
   "cell_type": "markdown",
   "id": "2f9578e2-01ba-4855-9421-7c8f7f81b538",
   "metadata": {},
   "source": [
    "For each sample (each compound) the following features are given. The critical temperature we want to regress is the last one."
   ]
  },
  {
   "cell_type": "code",
   "execution_count": 4,
   "id": "1e970444-e844-4bb7-a346-8f3d062d4534",
   "metadata": {
    "execution": {
     "iopub.execute_input": "2024-10-27T20:41:52.786418Z",
     "iopub.status.busy": "2024-10-27T20:41:52.786087Z",
     "iopub.status.idle": "2024-10-27T20:41:52.796719Z",
     "shell.execute_reply": "2024-10-27T20:41:52.795606Z",
     "shell.execute_reply.started": "2024-10-27T20:41:52.786388Z"
    }
   },
   "outputs": [
    {
     "name": "stdout",
     "output_type": "stream",
     "text": [
      "['\"number_of_elements\"' '\"mean_atomic_mass\"' '\"wtd_mean_atomic_mass\"'\n",
      " '\"gmean_atomic_mass\"' '\"wtd_gmean_atomic_mass\"' '\"entropy_atomic_mass\"'\n",
      " '\"wtd_entropy_atomic_mass\"' '\"range_atomic_mass\"'\n",
      " '\"wtd_range_atomic_mass\"' '\"std_atomic_mass\"' '\"wtd_std_atomic_mass\"'\n",
      " '\"mean_fie\"' '\"wtd_mean_fie\"' '\"gmean_fie\"' '\"wtd_gmean_fie\"'\n",
      " '\"entropy_fie\"' '\"wtd_entropy_fie\"' '\"range_fie\"' '\"wtd_range_fie\"'\n",
      " '\"std_fie\"' '\"wtd_std_fie\"' '\"mean_atomic_radius\"'\n",
      " '\"wtd_mean_atomic_radius\"' '\"gmean_atomic_radius\"'\n",
      " '\"wtd_gmean_atomic_radius\"' '\"entropy_atomic_radius\"'\n",
      " '\"wtd_entropy_atomic_radius\"' '\"range_atomic_radius\"'\n",
      " '\"wtd_range_atomic_radius\"' '\"std_atomic_radius\"'\n",
      " '\"wtd_std_atomic_radius\"' '\"mean_Density\"' '\"wtd_mean_Density\"'\n",
      " '\"gmean_Density\"' '\"wtd_gmean_Density\"' '\"entropy_Density\"'\n",
      " '\"wtd_entropy_Density\"' '\"range_Density\"' '\"wtd_range_Density\"'\n",
      " '\"std_Density\"' '\"wtd_std_Density\"' '\"mean_ElectronAffinity\"'\n",
      " '\"wtd_mean_ElectronAffinity\"' '\"gmean_ElectronAffinity\"'\n",
      " '\"wtd_gmean_ElectronAffinity\"' '\"entropy_ElectronAffinity\"'\n",
      " '\"wtd_entropy_ElectronAffinity\"' '\"range_ElectronAffinity\"'\n",
      " '\"wtd_range_ElectronAffinity\"' '\"std_ElectronAffinity\"'\n",
      " '\"wtd_std_ElectronAffinity\"' '\"mean_FusionHeat\"' '\"wtd_mean_FusionHeat\"'\n",
      " '\"gmean_FusionHeat\"' '\"wtd_gmean_FusionHeat\"' '\"entropy_FusionHeat\"'\n",
      " '\"wtd_entropy_FusionHeat\"' '\"range_FusionHeat\"' '\"wtd_range_FusionHeat\"'\n",
      " '\"std_FusionHeat\"' '\"wtd_std_FusionHeat\"' '\"mean_ThermalConductivity\"'\n",
      " '\"wtd_mean_ThermalConductivity\"' '\"gmean_ThermalConductivity\"'\n",
      " '\"wtd_gmean_ThermalConductivity\"' '\"entropy_ThermalConductivity\"'\n",
      " '\"wtd_entropy_ThermalConductivity\"' '\"range_ThermalConductivity\"'\n",
      " '\"wtd_range_ThermalConductivity\"' '\"std_ThermalConductivity\"'\n",
      " '\"wtd_std_ThermalConductivity\"' '\"mean_Valence\"' '\"wtd_mean_Valence\"'\n",
      " '\"gmean_Valence\"' '\"wtd_gmean_Valence\"' '\"entropy_Valence\"'\n",
      " '\"wtd_entropy_Valence\"' '\"range_Valence\"' '\"wtd_range_Valence\"'\n",
      " '\"std_Valence\"' '\"wtd_std_Valence\"' '\"critical_temp\"']\n"
     ]
    }
   ],
   "source": [
    "print(fields)"
   ]
  },
  {
   "cell_type": "markdown",
   "id": "ec276c75-e32c-4c42-af27-8da7b0a0cf38",
   "metadata": {},
   "source": [
    "**0.1** How many samples do we have ? What is the critical temperature of the 10th sample?"
   ]
  },
  {
   "cell_type": "code",
   "execution_count": 5,
   "id": "3a46ec1d-1893-4725-b41f-d9e0edbf3457",
   "metadata": {
    "execution": {
     "iopub.execute_input": "2024-10-27T20:41:52.799108Z",
     "iopub.status.busy": "2024-10-27T20:41:52.798830Z",
     "iopub.status.idle": "2024-10-27T20:41:52.839859Z",
     "shell.execute_reply": "2024-10-27T20:41:52.838107Z",
     "shell.execute_reply.started": "2024-10-27T20:41:52.799083Z"
    }
   },
   "outputs": [
    {
     "name": "stdout",
     "output_type": "stream",
     "text": [
      "We have 21263 samples\n",
      "The critical temperature of the 10th sample is 31.0 K\n"
     ]
    }
   ],
   "source": [
    "ds = (data.shape)\n",
    "critical_T_index = ds[1] -1 #we remove 1 bc list starts at index 0 and we know that the critical temperature is the last future\n",
    "print(f\"We have {ds[0]} samples\")\n",
    "print(f\"The critical temperature of the 10th sample is {data[9, critical_T_index]} K\") #data[9,..] also because indexs start at 0"
   ]
  },
  {
   "cell_type": "markdown",
   "id": "0bcc8940-aaca-4340-9b5d-635435fcc0d1",
   "metadata": {},
   "source": [
    "**0.2** `data` is of size $(N, d+1)$. The last column is the critical temperature. Extract it to form two numpy arrays : $y$ of size $(N,)$ containing the critical temperature and $X$ of size $(N,d)$ containing the remaining data."
   ]
  },
  {
   "cell_type": "code",
   "execution_count": 6,
   "id": "facc18f8-0e22-49e8-b9ab-3b8d25267e7c",
   "metadata": {
    "execution": {
     "iopub.execute_input": "2024-10-27T20:41:52.842474Z",
     "iopub.status.busy": "2024-10-27T20:41:52.841788Z",
     "iopub.status.idle": "2024-10-27T20:41:52.915940Z",
     "shell.execute_reply": "2024-10-27T20:41:52.913301Z",
     "shell.execute_reply.started": "2024-10-27T20:41:52.842426Z"
    }
   },
   "outputs": [
    {
     "name": "stdout",
     "output_type": "stream",
     "text": [
      "(21263, 82)\n",
      "(21263,)\n",
      "(21263, 81)\n"
     ]
    }
   ],
   "source": [
    "y = data[:, -1]  \n",
    "X = data[:, :-1]  \n",
    "#just to make sure :\n",
    "print(data.shape)\n",
    "print(y.shape)\n",
    "print(X.shape)\n"
   ]
  },
  {
   "cell_type": "markdown",
   "id": "3feea50f-2d0a-43cd-a6d0-d353a8b272f6",
   "metadata": {},
   "source": [
    "**0.3** Because the different features correspond to different physical quantities and have different units, thus different magnitudes of numerical values, we preprocess the arrays.\n",
    "\n",
    "Compute $m_y$ the mean of $y$ and $\\sigma_y$ its standard deviation. Then normalize and update $y$ accroding to $y\\to (y-m_y)/\\sigma_y$, where $y-m_y$ means that we substract the mean $m_y$ from each component of the vector $y$. Do the same for each column of $X$ i.e. for the mean of each feature across all datapoints. Use numpy functions and no `for` loop."
   ]
  },
  {
   "cell_type": "code",
   "execution_count": 7,
   "id": "f138f9ef-ce18-4522-8256-c4b1fda9768e",
   "metadata": {
    "execution": {
     "iopub.execute_input": "2024-10-27T20:41:52.920913Z",
     "iopub.status.busy": "2024-10-27T20:41:52.919493Z",
     "iopub.status.idle": "2024-10-27T20:41:53.013738Z",
     "shell.execute_reply": "2024-10-27T20:41:53.011759Z",
     "shell.execute_reply.started": "2024-10-27T20:41:52.920847Z"
    }
   },
   "outputs": [],
   "source": [
    "mY, stdY = np.mean(y), np.std(y)\n",
    "y = (y - mY) / stdY\n",
    "\n",
    "mX, stdX = np.mean(X, axis=0), np.std(X, axis=0) #axis = 0 specify that we compute those values for each column\n",
    "X = (X - mX) / stdX"
   ]
  },
  {
   "cell_type": "markdown",
   "id": "65f3ce08-0579-4d3b-9292-5ad55099c52a",
   "metadata": {},
   "source": [
    "**0.4** Write a function `split` that given $X$ and $y$ returns a shuffled train, validation and test set with a 70%‑15%-15% split."
   ]
  },
  {
   "cell_type": "code",
   "execution_count": 8,
   "id": "f3568c29-15a7-4774-b4f8-df1bf9fcde73",
   "metadata": {
    "execution": {
     "iopub.execute_input": "2024-10-27T20:41:53.015688Z",
     "iopub.status.busy": "2024-10-27T20:41:53.015300Z",
     "iopub.status.idle": "2024-10-27T20:41:53.915407Z",
     "shell.execute_reply": "2024-10-27T20:41:53.914320Z",
     "shell.execute_reply.started": "2024-10-27T20:41:53.015636Z"
    }
   },
   "outputs": [],
   "source": [
    "#We can inspire from serie 5 ex 2.1\n",
    "#don't forge to import train_test_split\n",
    "from sklearn.model_selection import train_test_split\n",
    "def split(X, y):\n",
    "    \n",
    "    X_train,X_tv,y_train,y_tv=train_test_split(X,y,shuffle=True, train_size=0.7)\n",
    "    X_val,X_test,y_val,y_test=train_test_split(X_tv,y_tv,shuffle=True, train_size=0.5)\n",
    "\n",
    "    \n",
    "    return X_train, y_train, X_val, y_val, X_test, y_test"
   ]
  },
  {
   "cell_type": "code",
   "execution_count": 9,
   "id": "06925992-8afb-4b16-a18b-5ed54bd43ded",
   "metadata": {
    "execution": {
     "iopub.execute_input": "2024-10-27T20:41:53.917040Z",
     "iopub.status.busy": "2024-10-27T20:41:53.916612Z",
     "iopub.status.idle": "2024-10-27T20:41:53.944340Z",
     "shell.execute_reply": "2024-10-27T20:41:53.943313Z",
     "shell.execute_reply.started": "2024-10-27T20:41:53.916998Z"
    }
   },
   "outputs": [],
   "source": [
    "X_train, y_train, X_val, y_val, X_test, y_test = split(X, y)"
   ]
  },
  {
   "cell_type": "markdown",
   "id": "925dc293-f78d-4650-8d6f-b15e2c885efe",
   "metadata": {},
   "source": [
    "## 1 Least-square linear regression"
   ]
  },
  {
   "cell_type": "markdown",
   "id": "1c236ad7-e3a3-46a4-adbd-92cfbcc548e0",
   "metadata": {},
   "source": [
    "In this part we predict $y$ using least-square regression. More precisely we express our predictor $\\hat{y}$ as a linear combination of the features $\\hat{y}=Xw$ with $w\\in\\mathbb{R}^d$. We search for $w$ that minimizes the mean square error $L_\\mathrm{train}$ between the predictions and the true values.\n",
    "$$L_\\mathrm{train}=\\frac{1}{2}\\frac{1}{\\#\\mathrm{train}}\\sum_{n\\in\\mathrm{train}}(y_n-\\hat{y}_n)^2 \\qquad\\qquad L_\\mathrm{test}=\\frac{1}{2}\\frac{1}{\\#\\mathrm{test}}\\sum_{n\\in\\mathrm{test}}(y_n-\\hat{y}_n)^2$$\n"
   ]
  },
  {
   "cell_type": "markdown",
   "id": "0c8cbdec-ae3b-46b2-9c52-b1b5f0056fcf",
   "metadata": {},
   "source": [
    "**1.1** Compute $w^*$ the minimizer of $L$ using the formula for the least-square estimator without regularization on the train set. Compute $\\hat y_\\mathrm{train}$ and $\\hat y_\\mathrm{test}$ the predicted values for the train and test sets. Compute and print the mean errors $L_\\mathrm{train}$ and $L_\\mathrm{test}$ you obtain with this estimator."
   ]
  },
  {
   "cell_type": "code",
   "execution_count": 10,
   "id": "9e9549c8-df2c-42d0-81e6-ec0581785f8a",
   "metadata": {
    "execution": {
     "iopub.execute_input": "2024-10-27T20:41:53.946338Z",
     "iopub.status.busy": "2024-10-27T20:41:53.946045Z",
     "iopub.status.idle": "2024-10-27T20:41:57.705903Z",
     "shell.execute_reply": "2024-10-27T20:41:57.694587Z",
     "shell.execute_reply.started": "2024-10-27T20:41:53.946312Z"
    }
   },
   "outputs": [
    {
     "name": "stdout",
     "output_type": "stream",
     "text": [
      "L_train: 0.1328308857229481\n",
      "L_test: 0.12905833153610863\n"
     ]
    }
   ],
   "source": [
    "w = np.linalg.inv(X_train.T @ X_train) @ X_train.T @ y_train #we use formula (3.36) from the course\n",
    "y_train_predicted = X_train@ w\n",
    "y_test_predicted = X_test @ w\n",
    "\n",
    "#we use the same 1/2 factor that in the énoncé (it is useful to simplify the derivatives of L)\n",
    "L_train = 0.5 * np.mean((y_train - y_train_predicted) ** 2)\n",
    "L_test = 0.5 * np.mean((y_test - y_test_predicted) ** 2)\n",
    "\n",
    "\n",
    "print(f\"L_train: {L_train}\")\n",
    "print(f\"L_test: {L_test}\")"
   ]
  },
  {
   "cell_type": "markdown",
   "id": "4f7a430d-baf6-4a3e-aede-820037d1ec2a",
   "metadata": {},
   "source": [
    "**1.2** Plot the predicted temperature vs the true one for the samples from the test set. Use a scatter plot with small dots and add labels. Do not forget to rescale $y$ with $m_y$ and $\\sigma_y$ to obtain physical temperatures. Plot the line $y=\\hat y$."
   ]
  },
  {
   "cell_type": "code",
   "execution_count": 11,
   "id": "3d356689-75e6-4a71-aba7-047f0ce3ef34",
   "metadata": {
    "execution": {
     "iopub.execute_input": "2024-10-27T20:41:57.802308Z",
     "iopub.status.busy": "2024-10-27T20:41:57.801405Z",
     "iopub.status.idle": "2024-10-27T20:41:58.483602Z",
     "shell.execute_reply": "2024-10-27T20:41:58.480466Z",
     "shell.execute_reply.started": "2024-10-27T20:41:57.802232Z"
    },
    "scrolled": true
   },
   "outputs": [
    {
     "data": {
      "image/png": "[encoded data removed]",
      "text/plain": [
       "<Figure size 800x600 with 1 Axes>"
      ]
     },
     "metadata": {},
     "output_type": "display_data"
    }
   ],
   "source": [
    "y_test_rescaled = y_test * stdY + mY  # Rescale true y_test\n",
    "y_test_predicted_rescaled = y_test_predicted * stdY + mY  # Rescale predicted y_test\n",
    "\n",
    "plt.figure(figsize=(8, 6))\n",
    "plt.scatter(y_test_rescaled, y_test_predicted_rescaled, s=10, color='blue', label='Predicted vs True')  # Small dots\n",
    "plt.plot([min(y_test_rescaled), max(y_test_rescaled)], [min(y_test_rescaled), max(y_test_rescaled)], 'r--', label='$y=\\\\hat{y}$')  # Line y = predicted y\n",
    "\n",
    "\n",
    "plt.xlabel('True Temperature (K)')\n",
    "plt.ylabel('Predicted Temperature (K)')\n",
    "plt.title('True vs Predicted Temperatures on Test Set')\n",
    "plt.legend()\n",
    "plt.grid(True)\n",
    "plt.show()\n",
    "\n"
   ]
  },
  {
   "cell_type": "markdown",
   "id": "5dd12543-15f1-4732-a696-104330303712",
   "metadata": {
    "execution": {
     "iopub.execute_input": "2024-10-21T13:03:34.080575Z",
     "iopub.status.busy": "2024-10-21T13:03:34.080156Z",
     "iopub.status.idle": "2024-10-21T13:03:34.094667Z",
     "shell.execute_reply": "2024-10-21T13:03:34.092268Z",
     "shell.execute_reply.started": "2024-10-21T13:03:34.080543Z"
    },
    "scrolled": true
   },
   "source": [
    "**1.3** In this case it is not required to add a regularization term on $w$ ; justify why."
   ]
  },
  {
   "cell_type": "markdown",
   "id": "2768673f-c3ef-4213-af65-4863c6ce90b0",
   "metadata": {},
   "source": [
    "*your answer* :\n",
    "A regularization term is necessary when $n < d $   ($n$ representing in our case the number of sample and $d$ the number of features) for  $data\\in\\mathbb{R}^{n\\times d}$  because the solution that minimize the loss function L is not unique anymore and we decide to pick the one with the smallest norm. As $n > d$ in this exercice this term is not necessary."
   ]
  },
  {
   "cell_type": "markdown",
   "id": "3fc72891-eae9-48ab-9d47-302192c80fac",
   "metadata": {},
   "source": [
    "## 2 Small neural network and gradient descent"
   ]
  },
  {
   "cell_type": "markdown",
   "id": "1439d0e5-98bc-4245-bca4-98c98773cc55",
   "metadata": {},
   "source": [
    "One can construct better estimators by combining the columns of $X$ to create new features. For instance you already saw bits of polynomial features where we extend $X=(X_{i\\mu})$ with powers of the data $X_{i\\mu}^k$.\n",
    "\n",
    "In this part we follow a different way. We let a neural network automatically constructs features from data, by combining it in a non-linear manner. We consider a simple neural network with two layers. Given data $X\\in\\mathbb{R}^{M\\times d}$ it returns the prediction $\\hat y\\in\\mathbb{R}^M$ defined by\n",
    "$$\n",
    "\\hat y=f(X;W_1,W_2)=\\sigma(XW_2+\\mathrm{1_M}B^T)W_1\n",
    "$$\n",
    "where we set\n",
    "* $W_1\\in\\mathbb{R}^p$ and $W_2\\in\\mathbb{R}^{d\\times p}$ the two layers of weights,\n",
    "* $B\\in\\mathbb{R}^p$ the biaises, $\\mathrm{1_M}\\in\\mathbb{R}^M$ the vector full of ones, and $\\mathrm{1_M}B^T$ is the matrix where each row is $B$,\n",
    "* $p$ the number of hidden units,\n",
    "* $\\sigma$ is the activation function that acts element-wise on the matrix $XW_2+\\mathrm{1_M}B^T$. We take $\\sigma(x)=max(0,x)$.\n",
    "\n",
    "We consider the same training loss as in the first part :\n",
    "$$L_\\mathrm{train}(W_1,W_2,B)=\\frac{1}{2N'}\\sum_{n=1}^{N'}(y_{\\mathrm{train},n}-\\hat y_{\\mathrm{train},n})^2 \\qquad\\qquad \\hat y_\\mathrm{train}=f(X_\\mathrm{train};W_1,W_2,B) \\qquad\\qquad N'=\\#\\mathrm{train}$$\n",
    "We seek to minimize $L_\\mathrm{train}$ with respect to $W_1$, $W_2$ and $B$. For this, we use gradient descent. The descent has to be done on the three sets of parameters $W_1$, $W_2$ and $B$ at the same time beause we want to minimize $L$ with respect to each of them."
   ]
  },
  {
   "cell_type": "markdown",
   "id": "a66a908a-983a-4c34-915f-c940e5d53244",
   "metadata": {},
   "source": [
    "**2.1** In the image classification tutorial you saw that one can use the logistic loss instead of the square loss, and that it is often more efficient. Why here do we prefer the quadratic loss ?"
   ]
  },
  {
   "cell_type": "markdown",
   "id": "565d73ee-e23a-4844-bcb6-4f3486760192",
   "metadata": {},
   "source": [
    "*your answer* The answer that we are predicting in a classification is binary (1 or 0) and we saw that the logistic loss was the most appropriate for this but here we are dealing with a regression problem where we want to be able to measure how far we are from the predicted value and the square loss is thus more appropriate in this context "
   ]
  },
  {
   "cell_type": "markdown",
   "id": "30cb292a-ece9-471f-92de-8ebb1f078dae",
   "metadata": {},
   "source": [
    "**2.2** We do gradient descent on the parameters $W_1$, $W_2$ and $B$, with a step size $\\gamma$. We write $\\nabla_{W_1}L\\in\\mathbb{R}^p$, $\\nabla_{W_2}L\\in\\mathbb{R}^{d\\times p}$ and $\\nabla_{B}L\\in\\mathbb{R}^p$ the gradients of $L_\\mathrm{train}$ with respect to them. We define the gradient of a function $g$ with respect to a vector $A$ or a matrix $C$ as the vector or the matrix of same dimensions with\n",
    "$$\n",
    "(\\nabla_A g)_i = \\frac{\\partial g}{\\partial A_i} \\qquad\\qquad (\\nabla_C g)_{ij} = \\frac{\\partial g}{\\partial C_{ij}}\\ .\n",
    "$$\n",
    "Given $W_1^{(t)}$, $W_2^{(t)}$ and $B^{(t)}$ the values of $W_1$, $W_2$ and $B$ at iteration $t$ of gradient descent, write down their values $W_1^{(t+1)}$, $W_2^{(t+1)}$ and $B^{(t+1)}$ at the next iteration (one line for each)."
   ]
  },
  {
   "cell_type": "markdown",
   "id": "053c6eb4-7bc2-4390-a037-11582442d19c",
   "metadata": {},
   "source": [
    "*your answer*\n",
    "$$\n",
    "W_1^{(t+1)} = W_1^{(t)} - \\gamma \\nabla_{W_1} L\n",
    "$$\n",
    "\n",
    "$$\n",
    "W_2^{(t+1)} = W_2^{(t)} - \\gamma \\nabla_{W_2} L\n",
    "$$\n",
    "\n",
    "$$\n",
    "B^{(t+1)} = B^{(t)} - \\gamma \\nabla_{B} L\n",
    "$$"
   ]
  },
  {
   "cell_type": "markdown",
   "id": "ae8adfba-8538-4826-a9ca-edeecfd9eeb3",
   "metadata": {},
   "source": [
    "**2.3** We use the chain rule to compute $\\nabla_{W_1}L$, $\\nabla_{W_2}L$ and $\\nabla_BL$. It states that\n",
    "$$\n",
    "\\nabla_{W_1}L = (\\nabla_{\\hat y_\\mathrm{train}}L)^T\\nabla_{W_1}f \\qquad\\qquad \\nabla_{W_2}L = (\\nabla_{\\hat y_\\mathrm{train}}L)^T\\nabla_{W_2}f \\qquad\\qquad \\nabla_BL = (\\nabla_{\\hat y_\\mathrm{train}}L)^T\\nabla_Bf\n",
    "$$\n",
    "with $\\nabla_{W_1}f\\in\\mathbb{R}^{N'\\times p}$, $\\nabla_{W_2}f\\in\\mathbb{R}^{N'\\times d\\times p}$ and $\\nabla_Bf\\in\\mathbb{R}^{N'\\times p}$ the gradients of $f$ with respect to $W_1$, $W_2$ and $B$.\n",
    "\n",
    "$\\nabla_{\\hat y_\\mathrm{train}}L$ is the gradient of $L_\\mathrm{train}$ with respect to $\\hat y_\\mathrm{train}$. Show in two lines that $\\nabla_{\\hat y_\\mathrm{train}}L=(\\hat y_\\mathrm{train}-y_\\mathrm{train})/N'$. Compute $\\nabla_{W_1}f$ and then $\\nabla_{W_1}L$."
   ]
  },
  {
   "cell_type": "markdown",
   "id": "e4610feb-b930-4deb-a528-f4d80a95730a",
   "metadata": {},
   "source": [
    "*your answer*\n",
    "\n",
    "# 1\n",
    "We are given the loss function:\n",
    "\n",
    "$$\n",
    "L_{\\text{train}}(W_1, W_2, B) = \\frac{1}{2N'} \\sum_{n=1}^{N'} (y_{\\text{train},n} - \\hat{y}_{\\text{train},n})^2\n",
    "$$\n",
    "\n",
    "To find the gradient of the loss with respect to $( \\hat{y}_{\\text{train}} )$, we differentiate the above loss function:\n",
    "\n",
    "$$\n",
    "\\nabla_{\\hat{y}_{\\text{train}}} L = \\frac{1}{2N'} \\sum_{n=1}^{N'} 2 (\\hat{y}_{\\text{train},n} - y_{\\text{train},n})\n",
    " = \\frac{(\\hat{y}_{\\text{train}} - y_{\\text{train}})}{N'}\n",
    "$$\n",
    "\n",
    "---\n",
    "\n",
    "## 2)\n",
    "\n",
    "The function \\( f \\) is given by:\n",
    "\n",
    "$$\n",
    "\\hat{y} = f(X; W_1, W_2, B) = \\sigma(XW_2 + \\mathrm{1_M} B^T) W_1\n",
    "$$\n",
    "\n",
    "Since sigma is not a function of W_1 we use the product derivative rule and hence find :\n",
    "\n",
    "$$\n",
    "\\nabla_{W_1} f = \\sigma(XW_2 + \\mathrm{1_M} B^T)\n",
    "$$\n",
    "\n",
    "---\n",
    "\n",
    "## 3)\n",
    "\n",
    "Now, using the chain rule and the result from Step 2, we have:\n",
    "\n",
    "$$\n",
    "\\nabla_{W_1} L = (\\nabla_{\\hat{y}_{\\text{train}}} L)^T \\nabla_{W_1} f\n",
    "$$\n",
    "\n",
    "Substitute $( \\nabla_{\\hat{y}_{\\text{train}}} L = \\frac{(\\hat{y}_{\\text{train}} - y_{\\text{train}})}{N'} )$ and $( \\nabla_{W_1} f = \\sigma(XW_2 + \\mathrm{1_M} B^T) )$:\n",
    "\n",
    "$$\n",
    "\\nabla_{W_1} L = \\left( \\frac{(\\hat{y}_{\\text{train}} - y_{\\text{train}})}{N'} \\right)^T \\sigma(XW_2 + \\mathrm{1_M} B^T)\n",
    "$$\n"
   ]
  },
  {
   "cell_type": "markdown",
   "id": "6c2c2c9c-c9e3-4deb-884e-a8c1be898f83",
   "metadata": {},
   "source": [
    "**2.4** We give an implementation of $\\nabla_{W_2}L$ and $\\nabla_BL$. Implement functions that compute $\\sigma$, $\\sigma'$, $f$, $L$ and $\\nabla_{W_1}L$. They should be vectorized to be fast enough."
   ]
  },
  {
   "cell_type": "code",
   "execution_count": 16,
   "id": "a3e9eb39-70fd-4202-921f-8e372f54ca56",
   "metadata": {
    "execution": {
     "iopub.execute_input": "2024-10-27T20:42:49.107145Z",
     "iopub.status.busy": "2024-10-27T20:42:49.106237Z",
     "iopub.status.idle": "2024-10-27T20:42:49.126870Z",
     "shell.execute_reply": "2024-10-27T20:42:49.125600Z",
     "shell.execute_reply.started": "2024-10-27T20:42:49.107068Z"
    }
   },
   "outputs": [],
   "source": [
    "def sigma(x):\n",
    "    \"\"\"\n",
    "    activation function\n",
    "    \"\"\"\n",
    "    return np.maximum(0,x) #python built-in function. Is going to act element wise\n",
    "    \n",
    "\n",
    "def deriv_sigma(x):\n",
    "    \"\"\"\n",
    "    derivative of the activation function\n",
    "    \"\"\"\n",
    "    return np.where(x > 0, 1, 0) # the derivatif if 1 if x>0 since d(sigma)/dx = dx/dx = 1 in this case. Returns 0 otherwise\n",
    "\n",
    "def neural_net(X,W_1,W_2,B): \n",
    "    \"\"\"\n",
    "    function implementing the neural network f\n",
    "    W_1 is a (p,) array\n",
    "    W_2 is a (d, p) array\n",
    "    B is a (p,) array\n",
    "    X is a (n, d) array\n",
    "    \"\"\"\n",
    "    return sigma((X @ W_2 + ( np.ones(B.size) @B.T) ) @ W_1 )\n",
    "\n",
    "def loss(y,z):\n",
    "    \"\"\"\n",
    "    quadratic loss\n",
    "    y and z are (n,) arrays\n",
    "    \"\"\"\n",
    "    return 0.5 * np.mean((y - z) ** 2)\n",
    "\n",
    "def grad_W_1(X,W_1,W_2,B,y):\n",
    "    \"\"\"\n",
    "    gradient of the loss with respect to W_1\n",
    "    \"\"\"\n",
    "    N = y.shape[0]  \n",
    "    \n",
    "    Z = X @ W_2 + np.ones(B.size) @B.T  \n",
    "    A = sigma(Z)     # Apply activation function\n",
    "    y_pred = A @ W_1  # Predicted values\n",
    "    \n",
    "    grad = ((y_pred - y) / N) @ A \n",
    "    \n",
    "    return grad\n",
    "    \n",
    "def grad_W_2(X,W_1,W_2,B,y):\n",
    "    \"\"\"\n",
    "    gradient of the loss with respect to W_2\n",
    "    \"\"\"\n",
    "    pre_activations=X@W_2+B\n",
    "    z=sigma(pre_activations)@W_1\n",
    "    return np.einsum('n,p,np,nd->dp', z-y, W_1, deriv_sigma(pre_activations), X)/len(y)\n",
    "\n",
    "def grad_B(X,W_1,W_2,B,y):\n",
    "    \"\"\"\n",
    "    gradient of the loss with respect to B\n",
    "    \"\"\"\n",
    "    pre_activations=X@W_2+B\n",
    "    z=sigma(pre_activations)@W_1\n",
    "    return (z-y)@(deriv_sigma(pre_activations)*W_1)/len(y)"
   ]
  },
  {
   "cell_type": "markdown",
   "id": "60474e72-d717-4b27-93e1-4f207bf9c56d",
   "metadata": {},
   "source": [
    "**2.5** Implement the gradient descent. You shall :\n",
    "* compute and save the value of the train loss at each iteration ; same for the validation loss ;\n",
    "* stop the gradient descent after a fixed well-chosen number $t_\\mathrm{max}$ of iterations ;\n",
    "* plot the train and validation losses with labels and a legend, using a log-log scale ;\n",
    "* tune $\\gamma$ to obtain good results with reasonable computing time. Remember that large $\\gamma$ is unstable and small $\\gamma$ is slow.\n",
    "\n",
    "You should :\n",
    "* start from weights randomly initialised, each component of $W_1$ as a Gaussian with zero mean and variance 1 and each component of $W_2$ as a Gaussian with zero mean and variance $1/d$. Take $B$ all zeros ;\n",
    "* take $p=5$ ;\n",
    "* check that the train loss decreases ;\n",
    "* while debugging your code take $t_\\mathrm{max}$ not too large. Once it runs correctly take a larger $t_\\mathrm{max}$ to obtain a better test loss."
   ]
  },
  {
   "cell_type": "code",
   "execution_count": 17,
   "id": "7bde1fc7-6a04-42e0-b292-d84e5d3aa7c7",
   "metadata": {
    "execution": {
     "iopub.execute_input": "2024-10-27T20:42:50.334176Z",
     "iopub.status.busy": "2024-10-27T20:42:50.329952Z",
     "iopub.status.idle": "2024-10-27T20:43:31.309547Z",
     "shell.execute_reply": "2024-10-27T20:43:31.308105Z",
     "shell.execute_reply.started": "2024-10-27T20:42:50.333986Z"
    }
   },
   "outputs": [
    {
     "data": {
      "image/png": "[encoded data removed]",
      "text/plain": [
       "<Figure size 1000x600 with 1 Axes>"
      ]
     },
     "metadata": {},
     "output_type": "display_data"
    }
   ],
   "source": [
    "tMax= 135 #we found it be trying tMax = 1000 and saw it was the minimum\n",
    "p=5\n",
    "gamma= 0.01 #while trying multiple ones we found that it was a reasonable one \n",
    "d = X.shape[1]\n",
    "W_1 = np.random.normal(loc=0.0, scale=1.0, size=(p,))        \n",
    "W_2 = np.random.normal(loc=0.0, scale=np.sqrt(1/d), size=(d, p)) \n",
    "B= np.zeros(p)\n",
    "train_losses=[]\n",
    "val_losses=[]\n",
    "for t in range(tMax):\n",
    "    y_train_pred = neural_net(X_train, W_1, W_2, B)  # Training predictions\n",
    "    y_val_pred = neural_net(X_val, W_1, W_2, B)      # Validation predictions\n",
    "\n",
    "    train_loss = loss(y_train, y_train_pred)  \n",
    "    val_loss = loss(y_val, y_val_pred)        \n",
    "    train_losses.append(train_loss)\n",
    "    val_losses.append(val_loss)\n",
    "\n",
    "    # If we want to print the loss at each iteration uncoment the next line\n",
    "    #print(f\"Iteration {t+1}/{tMax}, Training Loss: {train_loss:.4f}, Validation Loss: {val_loss:.4f}\")\n",
    "    \n",
    "    grad_W1 = grad_W_1(X_train, W_1, W_2, B, y_train) \n",
    "    grad_W2 = grad_W_2(X_train, W_1, W_2, B, y_train)  \n",
    "    gradd_B = grad_B(X_train, W_1, W_2, B, y_train)      # we name it gradd_B because grad_B is already the name of our function\n",
    "\n",
    "    #we then update the parametres\n",
    "    W_1 -= gamma * grad_W1\n",
    "    W_2 -= gamma * grad_W2\n",
    "    B -= gamma * gradd_B\n",
    "\n",
    "\n",
    "plt.figure(figsize=(10, 6))\n",
    "plt.loglog(train_losses, label='Training Loss')\n",
    "plt.loglog(val_losses, label='Validation Loss')\n",
    "plt.title('Training and Validation Losses')\n",
    "plt.xlabel('Iteration')\n",
    "plt.ylabel('Loss')\n",
    "plt.legend()\n",
    "plt.grid()\n",
    "plt.show()\n",
    "\n"
   ]
  },
  {
   "cell_type": "markdown",
   "id": "f33d34a7-87cf-4fcc-b53b-08044e253c1c",
   "metadata": {},
   "source": [
    "**2.6** Once we have optimized the training compute the test loss of the trained model and print it. In this case does the model overfit ?"
   ]
  },
  {
   "cell_type": "code",
   "execution_count": 18,
   "id": "9b770540-1f96-4c10-86f0-922099124a3a",
   "metadata": {
    "execution": {
     "iopub.execute_input": "2024-10-27T20:43:31.311543Z",
     "iopub.status.busy": "2024-10-27T20:43:31.311224Z",
     "iopub.status.idle": "2024-10-27T20:43:31.395647Z",
     "shell.execute_reply": "2024-10-27T20:43:31.327311Z",
     "shell.execute_reply.started": "2024-10-27T20:43:31.311514Z"
    }
   },
   "outputs": [
    {
     "name": "stdout",
     "output_type": "stream",
     "text": [
      "Test Loss: 0.3738\n",
      "The model generalizes well.\n"
     ]
    }
   ],
   "source": [
    "y_test_pred = neural_net(X_test, W_1, W_2, B)\n",
    "\n",
    "test_loss = loss(y_test, y_test_pred)\n",
    "\n",
    "print(f\"Test Loss: {test_loss:.4f}\")\n",
    "\n",
    "final_train_loss = train_losses[-1]  \n",
    "final_val_loss = val_losses[-1]    \n",
    "\n",
    "#The following tests can determine that we are not overfitting but could not rigourosly testify that we are \n",
    "#as the difference between the test and the train loss could be negligible\n",
    "\n",
    "if final_train_loss < test_loss:\n",
    "    print(\"The model is likely overfitting.\")\n",
    "else:\n",
    "    print(\"The model generalizes well.\")"
   ]
  },
  {
   "cell_type": "markdown",
   "id": "31ed425b-4829-4716-baf3-8effb482ef0e",
   "metadata": {},
   "source": [
    "**2.7** Using your trained neural network predict the temperature of the 10th sample of the test set and compare to the true value."
   ]
  },
  {
   "cell_type": "code",
   "execution_count": 19,
   "id": "df254099-fdd4-45b2-8c66-d0281a439091",
   "metadata": {
    "execution": {
     "iopub.execute_input": "2024-10-27T20:43:31.494893Z",
     "iopub.status.busy": "2024-10-27T20:43:31.401420Z",
     "iopub.status.idle": "2024-10-27T20:43:31.511050Z",
     "shell.execute_reply": "2024-10-27T20:43:31.506826Z",
     "shell.execute_reply.started": "2024-10-27T20:43:31.494728Z"
    }
   },
   "outputs": [
    {
     "name": "stdout",
     "output_type": "stream",
     "text": [
      " the predicted temperature for the 10th sample of the test set is 0.22898769432192606 with an actual value of -0.9698326858932868\n"
     ]
    }
   ],
   "source": [
    "print(f\" the predicted temperature for the 10th sample of the test set is {y_test_pred[9]} with an actual value of {y_test[9]}\")"
   ]
  },
  {
   "cell_type": "markdown",
   "id": "87f9bd30-f5e6-4683-86e3-5d6123e77b02",
   "metadata": {},
   "source": [
    "## Note :\n",
    "We are significantly more accurate than in the first exercice where we used linear regression (we should try more prediction to make sure tough). "
   ]
  },
  {
   "cell_type": "markdown",
   "id": "9be4f963-c4cb-46fe-a413-f95730ea58e4",
   "metadata": {},
   "source": [
    "## Sources : \n",
    "I have used chatGPT and haven't discussed with anybody about my answers."
   ]
  }
 ],
 "metadata": {
  "kernelspec": {
   "display_name": "Python 3 (ipykernel)",
   "language": "python",
   "name": "python3"
  },
  "language_info": {
   "codemirror_mode": {
    "name": "ipython",
    "version": 3
   },
   "file_extension": ".py",
   "mimetype": "text/x-python",
   "name": "python",
   "nbconvert_exporter": "python",
   "pygments_lexer": "ipython3",
   "version": "3.10.7"
  },
  "unianalytics_cell_mapping": [
   [
    "e5a910df-6ef8-4c5d-a684-e9e919a26cf3",
    "e5a910df-6ef8-4c5d-a684-e9e919a26cf3"
   ],
   [
    "19fc1e77-ec8f-4b85-94a1-48fa00e063f3",
    "19fc1e77-ec8f-4b85-94a1-48fa00e063f3"
   ],
   [
    "b0123981-2070-4f12-9a2a-923f12673d5c",
    "b0123981-2070-4f12-9a2a-923f12673d5c"
   ],
   [
    "bd360c7c-6914-4213-b849-252b12cbcd5b",
    "bd360c7c-6914-4213-b849-252b12cbcd5b"
   ],
   [
    "b9e5cb08-07cb-416f-898b-edbeb5cf7769",
    "b9e5cb08-07cb-416f-898b-edbeb5cf7769"
   ],
   [
    "055d87ca-eb5c-44c5-9d42-0849a1bca4d7",
    "055d87ca-eb5c-44c5-9d42-0849a1bca4d7"
   ],
   [
    "5d637450-db59-45a8-baa8-afd5131bd636",
    "5d637450-db59-45a8-baa8-afd5131bd636"
   ],
   [
    "2f9578e2-01ba-4855-9421-7c8f7f81b538",
    "2f9578e2-01ba-4855-9421-7c8f7f81b538"
   ],
   [
    "1e970444-e844-4bb7-a346-8f3d062d4534",
    "1e970444-e844-4bb7-a346-8f3d062d4534"
   ],
   [
    "ec276c75-e32c-4c42-af27-8da7b0a0cf38",
    "ec276c75-e32c-4c42-af27-8da7b0a0cf38"
   ],
   [
    "3a46ec1d-1893-4725-b41f-d9e0edbf3457",
    "3a46ec1d-1893-4725-b41f-d9e0edbf3457"
   ],
   [
    "0bcc8940-aaca-4340-9b5d-635435fcc0d1",
    "0bcc8940-aaca-4340-9b5d-635435fcc0d1"
   ],
   [
    "facc18f8-0e22-49e8-b9ab-3b8d25267e7c",
    "facc18f8-0e22-49e8-b9ab-3b8d25267e7c"
   ],
   [
    "3feea50f-2d0a-43cd-a6d0-d353a8b272f6",
    "3feea50f-2d0a-43cd-a6d0-d353a8b272f6"
   ],
   [
    "f138f9ef-ce18-4522-8256-c4b1fda9768e",
    "f138f9ef-ce18-4522-8256-c4b1fda9768e"
   ],
   [
    "65f3ce08-0579-4d3b-9292-5ad55099c52a",
    "65f3ce08-0579-4d3b-9292-5ad55099c52a"
   ],
   [
    "f3568c29-15a7-4774-b4f8-df1bf9fcde73",
    "f3568c29-15a7-4774-b4f8-df1bf9fcde73"
   ],
   [
    "06925992-8afb-4b16-a18b-5ed54bd43ded",
    "06925992-8afb-4b16-a18b-5ed54bd43ded"
   ],
   [
    "925dc293-f78d-4650-8d6f-b15e2c885efe",
    "925dc293-f78d-4650-8d6f-b15e2c885efe"
   ],
   [
    "1c236ad7-e3a3-46a4-adbd-92cfbcc548e0",
    "1c236ad7-e3a3-46a4-adbd-92cfbcc548e0"
   ],
   [
    "0c8cbdec-ae3b-46b2-9c52-b1b5f0056fcf",
    "0c8cbdec-ae3b-46b2-9c52-b1b5f0056fcf"
   ],
   [
    "9e9549c8-df2c-42d0-81e6-ec0581785f8a",
    "9e9549c8-df2c-42d0-81e6-ec0581785f8a"
   ],
   [
    "4f7a430d-baf6-4a3e-aede-820037d1ec2a",
    "4f7a430d-baf6-4a3e-aede-820037d1ec2a"
   ],
   [
    "3d356689-75e6-4a71-aba7-047f0ce3ef34",
    "4f7a430d-baf6-4a3e-aede-820037d1ec2a"
   ],
   [
    "5dd12543-15f1-4732-a696-104330303712",
    "4f7a430d-baf6-4a3e-aede-820037d1ec2a"
   ],
   [
    "2768673f-c3ef-4213-af65-4863c6ce90b0",
    "2768673f-c3ef-4213-af65-4863c6ce90b0"
   ],
   [
    "3fc72891-eae9-48ab-9d47-302192c80fac",
    "3fc72891-eae9-48ab-9d47-302192c80fac"
   ],
   [
    "1439d0e5-98bc-4245-bca4-98c98773cc55",
    "1439d0e5-98bc-4245-bca4-98c98773cc55"
   ],
   [
    "a66a908a-983a-4c34-915f-c940e5d53244",
    "a66a908a-983a-4c34-915f-c940e5d53244"
   ],
   [
    "565d73ee-e23a-4844-bcb6-4f3486760192",
    "565d73ee-e23a-4844-bcb6-4f3486760192"
   ],
   [
    "30cb292a-ece9-471f-92de-8ebb1f078dae",
    "30cb292a-ece9-471f-92de-8ebb1f078dae"
   ],
   [
    "053c6eb4-7bc2-4390-a037-11582442d19c",
    "053c6eb4-7bc2-4390-a037-11582442d19c"
   ],
   [
    "ae8adfba-8538-4826-a9ca-edeecfd9eeb3",
    "ae8adfba-8538-4826-a9ca-edeecfd9eeb3"
   ],
   [
    "e4610feb-b930-4deb-a528-f4d80a95730a",
    "e4610feb-b930-4deb-a528-f4d80a95730a"
   ],
   [
    "6c2c2c9c-c9e3-4deb-884e-a8c1be898f83",
    "6c2c2c9c-c9e3-4deb-884e-a8c1be898f83"
   ],
   [
    "a3e9eb39-70fd-4202-921f-8e372f54ca56",
    "a3e9eb39-70fd-4202-921f-8e372f54ca56"
   ],
   [
    "60474e72-d717-4b27-93e1-4f207bf9c56d",
    "60474e72-d717-4b27-93e1-4f207bf9c56d"
   ],
   [
    "7bde1fc7-6a04-42e0-b292-d84e5d3aa7c7",
    "7bde1fc7-6a04-42e0-b292-d84e5d3aa7c7"
   ],
   [
    "f33d34a7-87cf-4fcc-b53b-08044e253c1c",
    "f33d34a7-87cf-4fcc-b53b-08044e253c1c"
   ],
   [
    "9b770540-1f96-4c10-86f0-922099124a3a",
    "9b770540-1f96-4c10-86f0-922099124a3a"
   ],
   [
    "31ed425b-4829-4716-baf3-8effb482ef0e",
    "31ed425b-4829-4716-baf3-8effb482ef0e"
   ],
   [
    "df254099-fdd4-45b2-8c66-d0281a439091",
    "df254099-fdd4-45b2-8c66-d0281a439091"
   ],
   [
    "87f9bd30-f5e6-4683-86e3-5d6123e77b02",
    "df254099-fdd4-45b2-8c66-d0281a439091"
   ],
   [
    "9be4f963-c4cb-46fe-a413-f95730ea58e4",
    "df254099-fdd4-45b2-8c66-d0281a439091"
   ]
  ],
  "unianalytics_notebook_id": "f7600bcb-19c3-415c-b42c-052b903d6f8e"
 },
 "nbformat": 4,
 "nbformat_minor": 5
}
